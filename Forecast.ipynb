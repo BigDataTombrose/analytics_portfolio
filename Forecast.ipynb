{
 "cells": [
  {
   "cell_type": "markdown",
   "id": "2f8970d2-4561-44e3-9e3a-edfee77c7941",
   "metadata": {},
   "source": [
    "# Imports and Definitions"
   ]
  },
  {
   "cell_type": "code",
   "execution_count": 104,
   "id": "026ecda1-0647-4f05-a2c7-e58bad23b8c3",
   "metadata": {},
   "outputs": [],
   "source": [
    "!pip install xgboost --quiet\n",
    "!pip install holidays --quiet"
   ]
  },
  {
   "cell_type": "code",
   "execution_count": 105,
   "id": "64a4865c-8234-4e30-b8e0-bef9ad0326f3",
   "metadata": {
    "tags": []
   },
   "outputs": [
    {
     "data": {
      "text/plain": [
       "<Figure size 640x480 with 0 Axes>"
      ]
     },
     "metadata": {},
     "output_type": "display_data"
    }
   ],
   "source": [
    "%run generic_common_library.py"
   ]
  },
  {
   "cell_type": "markdown",
   "id": "a72334e1-53a8-4d19-9051-dc66fd711408",
   "metadata": {},
   "source": [
    "# Bring in Data (TSF)"
   ]
  },
  {
   "cell_type": "code",
   "execution_count": 106,
   "id": "b3cbf1de-582d-4918-8781-340ae6ccde34",
   "metadata": {
    "tags": []
   },
   "outputs": [],
   "source": [
    "def load_tsf_file(file_path):\n",
    "    with open(file_path, 'r') as f:\n",
    "        lines = f.readlines()\n",
    "\n",
    "    # Parse metadata\n",
    "    column_names = []\n",
    "    data_started = False\n",
    "    data = []\n",
    "\n",
    "    for line in lines:\n",
    "        line = line.strip()\n",
    "        if not line:\n",
    "            continue\n",
    "        if line.startswith(\"@attribute\"):\n",
    "            parts = line.split()\n",
    "            column_names.append(parts[1])\n",
    "        elif line.startswith(\"@data\"):\n",
    "            data_started = True\n",
    "            continue\n",
    "        elif data_started:\n",
    "            # Split into metadata and series\n",
    "            meta_parts = line.split(\":\")\n",
    "            meta_data = meta_parts[:-1]\n",
    "            series = meta_parts[-1]\n",
    "            series_data = series.strip().split(\",\")\n",
    "            series_data = [float(x) if x != \"?\" else np.nan for x in series_data]\n",
    "            data.append(meta_data + [series_data])\n",
    "\n",
    "    # Create DataFrame\n",
    "    df = pd.DataFrame(data, columns=column_names + [\"series_values\"])\n",
    "    return df"
   ]
  },
  {
   "cell_type": "code",
   "execution_count": 107,
   "id": "82bbe17e-3429-4641-aed8-a79756c8635c",
   "metadata": {
    "tags": []
   },
   "outputs": [
    {
     "data": {
      "text/html": [
       "<div>\n",
       "<style scoped>\n",
       "    .dataframe tbody tr th:only-of-type {\n",
       "        vertical-align: middle;\n",
       "    }\n",
       "\n",
       "    .dataframe tbody tr th {\n",
       "        vertical-align: top;\n",
       "    }\n",
       "\n",
       "    .dataframe thead th {\n",
       "        text-align: right;\n",
       "    }\n",
       "</style>\n",
       "<table border=\"1\" class=\"dataframe\">\n",
       "  <thead>\n",
       "    <tr style=\"text-align: right;\">\n",
       "      <th></th>\n",
       "      <th>series_name</th>\n",
       "      <th>start_timestamp</th>\n",
       "      <th>series_values</th>\n",
       "    </tr>\n",
       "  </thead>\n",
       "  <tbody>\n",
       "    <tr>\n",
       "      <th>0</th>\n",
       "      <td>T1</td>\n",
       "      <td>1969-01-01 00-00-00</td>\n",
       "      <td>[8486.0, 9002.0, 9542.0, 8960.0, 8390.0, 9560....</td>\n",
       "    </tr>\n",
       "  </tbody>\n",
       "</table>\n",
       "</div>"
      ],
      "text/plain": [
       "  series_name      start_timestamp  \\\n",
       "0          T1  1969-01-01 00-00-00   \n",
       "\n",
       "                                       series_values  \n",
       "0  [8486.0, 9002.0, 9542.0, 8960.0, 8390.0, 9560....  "
      ]
     },
     "execution_count": 107,
     "metadata": {},
     "output_type": "execute_result"
    }
   ],
   "source": [
    "file_path = \"us_births_dataset.tsf\"  # replace with your actual path\n",
    "tsf_df = load_tsf_file(file_path)\n",
    "\n",
    "# Show the result\n",
    "tsf_df"
   ]
  },
  {
   "cell_type": "code",
   "execution_count": 108,
   "id": "d695959f-0b17-42bc-85c0-b91e33a7ce58",
   "metadata": {
    "tags": []
   },
   "outputs": [],
   "source": [
    "def expand_daily_series(df, time_column='start_timestamp', series_column='series_values'):\n",
    "    # Step 1: Repeat metadata for each value in series_values\n",
    "    df_expanded = df.explode(series_column).reset_index(drop=True)\n",
    "\n",
    "    # Step 2: Convert values to float (if not already)\n",
    "    df_expanded[series_column] = df_expanded[series_column].astype(float)\n",
    "    df_expanded = df_expanded.rename(columns={series_column:'METRIC'})\n",
    "\n",
    "    # Step 3: If there's a start date, build daily timestamps\n",
    "    if time_column in df.columns:\n",
    "        # Repeat start_timestamp for each exploded row\n",
    "        df_expanded['time_index'] = pd.to_datetime(df_expanded[time_column])\n",
    "        df_expanded['day_offset'] = df_expanded.index\n",
    "        df_expanded['DATETIME'] = df_expanded['time_index'] + pd.to_timedelta(df_expanded['day_offset'], unit='D')\n",
    "        df_expanded['DATETIME'] = df_expanded['DATETIME'].apply(lambda x: x.replace(tzinfo=None))\n",
    "        df_expanded.drop(columns=['start_timestamp', 'series_name', 'time_index', 'day_offset'], inplace=True)\n",
    "    else:\n",
    "        # If no start_timestamp, just create an integer time index\n",
    "        df_expanded['day'] = df.groupby(df.index).cumcount()\n",
    "\n",
    "    return df_expanded\n"
   ]
  },
  {
   "cell_type": "code",
   "execution_count": null,
   "id": "2ae325d6-3e2c-469b-9989-2be2535a734a",
   "metadata": {
    "tags": []
   },
   "outputs": [],
   "source": [
    "input_df = expand_daily_series(tsf_df)\n",
    "input_df.head()"
   ]
  },
  {
   "cell_type": "markdown",
   "id": "20c4ede3-faa4-4c4d-9261-363841788167",
   "metadata": {},
   "source": [
    "# Plot Data"
   ]
  },
  {
   "cell_type": "code",
   "execution_count": 110,
   "id": "bff50c06-9a3e-465c-b1fc-7ceb6db5db47",
   "metadata": {
    "tags": []
   },
   "outputs": [
    {
     "data": {
      "text/plain": [
       "<Axes: xlabel='DATETIME'>"
      ]
     },
     "execution_count": 110,
     "metadata": {},
     "output_type": "execute_result"
    },
    {
     "data": {
      "image/png": "[encoded data removed]",
      "text/plain": [
       "<Figure size 1500x800 with 1 Axes>"
      ]
     },
     "metadata": {},
     "output_type": "display_data"
    }
   ],
   "source": [
    "fig, ax = plt.subplots(figsize=(15,8))\n",
    "input_df.plot(x = 'DATETIME', y = 'METRIC',ax = ax)"
   ]
  },
  {
   "cell_type": "markdown",
   "id": "a3c9ed7f-e21b-4bc6-91a9-23b293e3622e",
   "metadata": {
    "tags": []
   },
   "source": [
    "# Generate Features"
   ]
  },
  {
   "cell_type": "code",
   "execution_count": 111,
   "id": "6ed50ce8-2dab-4770-ac2b-c0bf671b74ee",
   "metadata": {
    "tags": []
   },
   "outputs": [
    {
     "data": {
      "text/plain": [
       "<Figure size 640x480 with 0 Axes>"
      ]
     },
     "metadata": {},
     "output_type": "display_data"
    }
   ],
   "source": [
    "%run forecasting_generate_features.py"
   ]
  },
  {
   "cell_type": "code",
   "execution_count": 112,
   "id": "b8da7190-ff8c-4ac8-982d-2271ce82c3b4",
   "metadata": {
    "tags": []
   },
   "outputs": [
    {
     "name": "stderr",
     "output_type": "stream",
     "text": [
      "/opt/conda/lib/python3.10/site-packages/holidays/countries/india.py:180: Warning: Requested Holidays are available only from 2001 to 2035.\n",
      "  warnings.warn(warning_msg, Warning)\n"
     ]
    }
   ],
   "source": [
    "features_df, feature_list = add_features(\n",
    "    input_df = input_df,\n",
    "    metric = 'METRIC',\n",
    "    date_field = 'DATETIME'\n",
    ")"
   ]
  },
  {
   "cell_type": "markdown",
   "id": "5311afbf-0fa9-4d30-87b2-83a2375db9cc",
   "metadata": {},
   "source": [
    "# Identify best params for model fit"
   ]
  },
  {
   "cell_type": "code",
   "execution_count": 113,
   "id": "3510dc6e-92f3-4dce-9c80-f950f15fb196",
   "metadata": {
    "tags": []
   },
   "outputs": [],
   "source": [
    "%run forecasting_generate_best_parameters.py"
   ]
  },
  {
   "cell_type": "code",
   "execution_count": null,
   "id": "a96641b1-2c44-4468-a0eb-7206add98d3d",
   "metadata": {
    "tags": []
   },
   "outputs": [
    {
     "name": "stdout",
     "output_type": "stream",
     "text": [
      "Optimizing for: neg_root_mean_squared_error\n",
      "Param Grid contains 11664 combinations of parameters\n",
      "\n",
      "Step 1: Fill up a reduced param Grid using Randomized Search\n"
     ]
    }
   ],
   "source": [
    "# Generate the best hyperparameters for the current channel's dataset\n",
    "best_params = generate_best_parameters(\n",
    "    input_df = features_df,\n",
    "    metric = 'METRIC',\n",
    "    feature_list = feature_list,\n",
    "    scoring_method = 'neg_root_mean_squared_error'\n",
    ")"
   ]
  },
  {
   "cell_type": "markdown",
   "id": "ea1a7591-6c51-4b0e-9346-97f39fec2930",
   "metadata": {},
   "source": [
    "# Fit Model"
   ]
  },
  {
   "cell_type": "code",
   "execution_count": null,
   "id": "bbff8e3b-4a15-4917-a11b-6390afdfcee9",
   "metadata": {
    "tags": []
   },
   "outputs": [],
   "source": [
    "def fit_xgboost(input_df, metric, feature_list, objective, best_params, min_cv_split_size):\n",
    "    # Initialize an XGBoost regressor with the best parameters found during hyperparameter tuning\n",
    "    xgboost_reg = xgb.XGBRegressor(\n",
    "        colsample_bytree = best_params['colsample_bytree'],\n",
    "        gamma = best_params['gamma'],\n",
    "        learning_rate = best_params['learning_rate'],\n",
    "        max_depth = best_params['max_depth'],\n",
    "        min_child_weight = best_params['min_child_weight'],\n",
    "        n_estimators = best_params['n_estimators'],\n",
    "        subsample = best_params['subsample'],\n",
    "        objective = objective  # e.g., 'reg:squarederror'\n",
    "    )\n",
    "\n",
    "    # Select input features (X) and target variable (y)\n",
    "    X = input_df[feature_list]\n",
    "    y = input_df[metric]  # Assumes 'metric' is a global variable defined elsewhere\n",
    "\n",
    "    # Create custom cross-validation splits with minimum training size enforced\n",
    "    cv_splits = list(min_train_size_forward_split(X, n_splits=5, min_train_size=min_cv_split_size))\n",
    "\n",
    "    # Evaluate model using cross-validation with RMSE (root mean squared error)\n",
    "    rms_errors = cross_val_score(\n",
    "        xgboost_reg, X, y,\n",
    "        scoring='neg_root_mean_squared_error',\n",
    "        cv=cv_splits\n",
    "    )\n",
    "\n",
    "    # Evaluate model using cross-validation with MAPE (mean absolute percentage error)\n",
    "    map_errors = cross_val_score(\n",
    "        xgboost_reg, X, y,\n",
    "        scoring='neg_mean_absolute_percentage_error',\n",
    "        cv=cv_splits\n",
    "    )\n",
    "\n",
    "    # Train the XGBoost model on the full dataset\n",
    "    xgboost_reg.fit(X, y)\n",
    "\n",
    "    # Output evaluation metrics from cross-validation\n",
    "    print(\"Root Mean Squared Errors for each split:\", rms_errors)\n",
    "    print(\"AVG RMSE: %f\" % ((rms_errors * -1).mean()))  # Convert negative scores to positive\n",
    "    print(\"MAPE for each split:\", map_errors)\n",
    "    print(\"AVG MAPE: %f\" % ((map_errors * -1).mean()))  # Convert negative scores to positive\n",
    "\n",
    "    # Return the trained XGBoost model\n",
    "    return xgboost_reg"
   ]
  },
  {
   "cell_type": "code",
   "execution_count": null,
   "id": "29c218dd-7e6e-477a-8811-81c62f7b483b",
   "metadata": {
    "tags": []
   },
   "outputs": [],
   "source": [
    "# Fit an XGBoost model using the best parameters and training data\n",
    "fitted_model = fit_xgboost(\n",
    "    input_df = features_df,\n",
    "    metric = 'METRIC',\n",
    "    feature_list = feature_list,\n",
    "    objective = \"reg:squarederror\",\n",
    "    best_params = best_params,\n",
    "    min_cv_split_size = 365  # Minimum training data size per fold\n",
    ")"
   ]
  },
  {
   "cell_type": "markdown",
   "id": "e8a33b66-01da-4a48-be40-45a37fd83fc0",
   "metadata": {},
   "source": [
    "## Feature Importances"
   ]
  },
  {
   "cell_type": "code",
   "execution_count": null,
   "id": "55f55355-7d8f-479c-a826-05c3177b23ff",
   "metadata": {},
   "outputs": [],
   "source": [
    "feature_importance = pd.DataFrame({'label': fitted_model.feature_names_in_, 'importance': fitted_model.feature_importances_}, columns=['label', 'importance'])\n",
    "\n",
    "feature_importance.sort_values(by='importance', ascending=False).head(n=20)"
   ]
  },
  {
   "cell_type": "markdown",
   "id": "22f87d75-00a8-46e8-b6d6-ce3bd7c2fff1",
   "metadata": {},
   "source": [
    "# Generate Predictions"
   ]
  },
  {
   "cell_type": "code",
   "execution_count": null,
   "id": "d68f8ebb-8af4-4ef5-8dca-129a86d8b4b1",
   "metadata": {
    "tags": []
   },
   "outputs": [],
   "source": [
    "metric = 'METRIC'\n",
    "date_field = 'DATETIME'\n",
    "\n",
    "# Initialize an empty DataFrame to store all predictions\n",
    "all_predictions_df = pd.DataFrame()\n",
    "\n",
    "# Extract real data (actual values) from the DataFrame for the current channel\n",
    "real_data = features_df.copy()[[date_field, metric]]\n",
    "real_data.loc[:, 'isFuture'] = False  # Mark these rows as real data (not future)\n",
    "\n",
    "# Create a DataFrame for future dates to make predictions on\n",
    "future = pd.date_range(start=(real_data[date_field].max() + timedelta(1)), periods=364, freq='1d')  # 364 days ahead\n",
    "future_df = pd.DataFrame(future, columns=[date_field])  # Create DataFrame for future dates\n",
    "future_df[date_field] = pd.to_datetime(future_df[date_field])  # Ensure proper datetime format\n",
    "future_df.loc[:, 'isFuture'] = True  # Mark these rows as future data (predictions)\n",
    "\n",
    "# Combine real and future data into a single DataFrame\n",
    "real_and_future = pd.concat([real_data, future_df])\n",
    "\n",
    "# Add necessary features to both real and future data (using the 'add_features' function)\n",
    "real_and_future, feature_list = add_features(\n",
    "    input_df = real_and_future,\n",
    "    metric = metric,\n",
    "    date_field = date_field\n",
    ")\n",
    "\n",
    "# Make predictions using the loaded model\n",
    "real_and_future['predictions'] = fitted_model.predict(real_and_future[feature_list])"
   ]
  },
  {
   "cell_type": "markdown",
   "id": "cf5033fb-244f-4a0d-81f5-8e38c11f0fdb",
   "metadata": {},
   "source": [
    "# Vizualize Predictions"
   ]
  },
  {
   "cell_type": "code",
   "execution_count": null,
   "id": "ec660c7d-7f10-4220-b899-b7ddd5ab4260",
   "metadata": {
    "tags": []
   },
   "outputs": [],
   "source": [
    "fig, ax = plt.subplots(figsize=(15,8))\n",
    "real_and_future[real_and_future.DATETIME >= datetime(1986,1,1)].plot(x = 'DATETIME', y = 'METRIC',ax = ax)\n",
    "real_and_future[real_and_future.isFuture == True].plot(x = 'DATETIME', y = 'predictions',ax = ax)"
   ]
  }
 ],
 "metadata": {
  "environment": {
   "kernel": "conda-base-py",
   "name": "workbench-notebooks.m127",
   "type": "gcloud",
   "uri": "us-docker.pkg.dev/deeplearning-platform-release/gcr.io/workbench-notebooks:m127"
  },
  "kernelspec": {
   "display_name": "Python 3 (ipykernel) (Local)",
   "language": "python",
   "name": "conda-base-py"
  },
  "language_info": {
   "codemirror_mode": {
    "name": "ipython",
    "version": 3
   },
   "file_extension": ".py",
   "mimetype": "text/x-python",
   "name": "python",
   "nbconvert_exporter": "python",
   "pygments_lexer": "ipython3",
   "version": "3.10.16"
  }
 },
 "nbformat": 4,
 "nbformat_minor": 5
}
