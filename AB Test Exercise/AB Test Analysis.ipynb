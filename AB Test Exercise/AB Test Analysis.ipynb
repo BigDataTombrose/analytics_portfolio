{
 "cells": [
  {
   "cell_type": "markdown",
   "id": "aecceb02-aa07-49b9-bcdd-14ab86b540d4",
   "metadata": {},
   "source": [
    "# Imports"
   ]
  },
  {
   "cell_type": "code",
   "execution_count": 103,
   "id": "7182766d-e11c-4594-a760-56d6bd2e8947",
   "metadata": {
    "tags": []
   },
   "outputs": [],
   "source": [
    "import pandas as pd\n",
    "import numpy as np\n",
    "import random\n",
    "import matplotlib.pyplot as plt"
   ]
  },
  {
   "cell_type": "code",
   "execution_count": 104,
   "id": "90acae60-4fea-4bfb-9974-23962ac0bda6",
   "metadata": {
    "tags": []
   },
   "outputs": [
    {
     "data": {
      "text/html": [
       "<div>\n",
       "<style scoped>\n",
       "    .dataframe tbody tr th:only-of-type {\n",
       "        vertical-align: middle;\n",
       "    }\n",
       "\n",
       "    .dataframe tbody tr th {\n",
       "        vertical-align: top;\n",
       "    }\n",
       "\n",
       "    .dataframe thead th {\n",
       "        text-align: right;\n",
       "    }\n",
       "</style>\n",
       "<table border=\"1\" class=\"dataframe\">\n",
       "  <thead>\n",
       "    <tr style=\"text-align: right;\">\n",
       "      <th></th>\n",
       "      <th>userid</th>\n",
       "      <th>version</th>\n",
       "      <th>sum_gamerounds</th>\n",
       "      <th>retention_1</th>\n",
       "      <th>retention_7</th>\n",
       "    </tr>\n",
       "  </thead>\n",
       "  <tbody>\n",
       "    <tr>\n",
       "      <th>0</th>\n",
       "      <td>116</td>\n",
       "      <td>gate_30</td>\n",
       "      <td>3</td>\n",
       "      <td>False</td>\n",
       "      <td>False</td>\n",
       "    </tr>\n",
       "    <tr>\n",
       "      <th>1</th>\n",
       "      <td>337</td>\n",
       "      <td>gate_30</td>\n",
       "      <td>38</td>\n",
       "      <td>True</td>\n",
       "      <td>False</td>\n",
       "    </tr>\n",
       "    <tr>\n",
       "      <th>2</th>\n",
       "      <td>377</td>\n",
       "      <td>gate_40</td>\n",
       "      <td>165</td>\n",
       "      <td>True</td>\n",
       "      <td>False</td>\n",
       "    </tr>\n",
       "    <tr>\n",
       "      <th>3</th>\n",
       "      <td>483</td>\n",
       "      <td>gate_40</td>\n",
       "      <td>1</td>\n",
       "      <td>False</td>\n",
       "      <td>False</td>\n",
       "    </tr>\n",
       "    <tr>\n",
       "      <th>4</th>\n",
       "      <td>488</td>\n",
       "      <td>gate_40</td>\n",
       "      <td>179</td>\n",
       "      <td>True</td>\n",
       "      <td>True</td>\n",
       "    </tr>\n",
       "  </tbody>\n",
       "</table>\n",
       "</div>"
      ],
      "text/plain": [
       "   userid  version  sum_gamerounds  retention_1  retention_7\n",
       "0     116  gate_30               3        False        False\n",
       "1     337  gate_30              38         True        False\n",
       "2     377  gate_40             165         True        False\n",
       "3     483  gate_40               1        False        False\n",
       "4     488  gate_40             179         True         True"
      ]
     },
     "execution_count": 104,
     "metadata": {},
     "output_type": "execute_result"
    }
   ],
   "source": [
    "input_df = pd.read_csv('cookie_cats.csv')\n",
    "input_df.head()"
   ]
  },
  {
   "cell_type": "markdown",
   "id": "ae2a55c5-eb54-4d37-a1c0-0b490ce3bf9b",
   "metadata": {},
   "source": [
    "# Clean Data"
   ]
  },
  {
   "cell_type": "code",
   "execution_count": 105,
   "id": "f8aa8ad3-5eac-4930-a2e6-c06df117a24c",
   "metadata": {
    "tags": []
   },
   "outputs": [
    {
     "data": {
      "text/html": [
       "<div>\n",
       "<style scoped>\n",
       "    .dataframe tbody tr th:only-of-type {\n",
       "        vertical-align: middle;\n",
       "    }\n",
       "\n",
       "    .dataframe tbody tr th {\n",
       "        vertical-align: top;\n",
       "    }\n",
       "\n",
       "    .dataframe thead th {\n",
       "        text-align: right;\n",
       "    }\n",
       "</style>\n",
       "<table border=\"1\" class=\"dataframe\">\n",
       "  <thead>\n",
       "    <tr style=\"text-align: right;\">\n",
       "      <th></th>\n",
       "      <th>USER_ID</th>\n",
       "      <th>RETENTION_ONE</th>\n",
       "      <th>RETENTION_SEVEN</th>\n",
       "      <th>COHORT</th>\n",
       "      <th>NUM_ROUNDS_CAT</th>\n",
       "    </tr>\n",
       "  </thead>\n",
       "  <tbody>\n",
       "    <tr>\n",
       "      <th>0</th>\n",
       "      <td>116</td>\n",
       "      <td>0.0</td>\n",
       "      <td>0.0</td>\n",
       "      <td>CONTROL</td>\n",
       "      <td>NORMAL</td>\n",
       "    </tr>\n",
       "    <tr>\n",
       "      <th>1</th>\n",
       "      <td>337</td>\n",
       "      <td>1.0</td>\n",
       "      <td>0.0</td>\n",
       "      <td>CONTROL</td>\n",
       "      <td>NORMAL</td>\n",
       "    </tr>\n",
       "    <tr>\n",
       "      <th>2</th>\n",
       "      <td>377</td>\n",
       "      <td>1.0</td>\n",
       "      <td>0.0</td>\n",
       "      <td>VARIATION</td>\n",
       "      <td>HIGH</td>\n",
       "    </tr>\n",
       "    <tr>\n",
       "      <th>3</th>\n",
       "      <td>483</td>\n",
       "      <td>0.0</td>\n",
       "      <td>0.0</td>\n",
       "      <td>VARIATION</td>\n",
       "      <td>NORMAL</td>\n",
       "    </tr>\n",
       "    <tr>\n",
       "      <th>4</th>\n",
       "      <td>488</td>\n",
       "      <td>1.0</td>\n",
       "      <td>1.0</td>\n",
       "      <td>VARIATION</td>\n",
       "      <td>HIGH</td>\n",
       "    </tr>\n",
       "  </tbody>\n",
       "</table>\n",
       "</div>"
      ],
      "text/plain": [
       "   USER_ID  RETENTION_ONE  RETENTION_SEVEN     COHORT NUM_ROUNDS_CAT\n",
       "0      116            0.0              0.0    CONTROL         NORMAL\n",
       "1      337            1.0              0.0    CONTROL         NORMAL\n",
       "2      377            1.0              0.0  VARIATION           HIGH\n",
       "3      483            0.0              0.0  VARIATION         NORMAL\n",
       "4      488            1.0              1.0  VARIATION           HIGH"
      ]
     },
     "execution_count": 105,
     "metadata": {},
     "output_type": "execute_result"
    }
   ],
   "source": [
    "clean_df = input_df.copy()\n",
    "clean_df['COHORT'] = np.where(clean_df['version'] == 'gate_30', 'CONTROL', 'VARIATION')\n",
    "clean_df['retention_1'] = np.where(clean_df['retention_1'] == True, 1.0, 0.0)\n",
    "clean_df['retention_7'] = np.where(clean_df['retention_7'] == True, 1.0, 0.0)\n",
    "round_threshold = clean_df['sum_gamerounds'].quantile(0.75)\n",
    "clean_df['NUM_ROUNDS_CAT'] = clean_df['sum_gamerounds'].apply(\n",
    "    lambda x: 'HIGH' if x > round_threshold else 'NORMAL'\n",
    ")\n",
    "\n",
    "clean_df = clean_df.drop(columns=['version', 'sum_gamerounds'])\n",
    "clean_df = clean_df.rename(columns={\n",
    "    'userid':'USER_ID',\n",
    "    'retention_1':'RETENTION_ONE',\n",
    "    'retention_7':'RETENTION_SEVEN'})\n",
    "clean_df.head()"
   ]
  },
  {
   "cell_type": "markdown",
   "id": "05e6abb3-2d73-4d4b-b632-9f25bfd7f622",
   "metadata": {
    "tags": []
   },
   "source": [
    "# Define Metrics/Dimensions"
   ]
  },
  {
   "cell_type": "code",
   "execution_count": 106,
   "id": "b451a792-be8c-4cb3-96ad-87829803794c",
   "metadata": {
    "tags": []
   },
   "outputs": [],
   "source": [
    "metric_type_dict = {\n",
    "    # 'NUM_ROUNDS': 'CONTINUOUS',\n",
    "    'RETENTION_ONE': 'BINARY',\n",
    "    'RETENTION_SEVEN': 'BINARY',\n",
    "}\n",
    "\n",
    "metric_human_readable = {\n",
    "    # 'NUM_ROUNDS': 'Number of Rounds per Player',\n",
    "    'RETENTION_ONE': 'Retention Rate (1 day)',\n",
    "    'RETENTION_SEVEN': 'Retention Rate (7 Day)',\n",
    "}\n",
    "\n",
    "metric_list = list(metric_type_dict.keys())\n",
    "\n",
    "dimension_list = ['NUM_ROUNDS_CAT']"
   ]
  },
  {
   "cell_type": "markdown",
   "id": "2df2fb1b-a972-49a9-8967-31bccbcbd1cd",
   "metadata": {},
   "source": [
    "# Define Functions"
   ]
  },
  {
   "cell_type": "code",
   "execution_count": 107,
   "id": "03e8dbf3-f5bf-4a27-afca-e2c04e9d8cf2",
   "metadata": {
    "tags": []
   },
   "outputs": [],
   "source": [
    "# Finds sample sizes for each cohort\n",
    "def find_sample_sizes(input_df, cohort_column, user_column):\n",
    "    # Count number of visits per cohort\n",
    "    sample_size_groupby = input_df.copy().groupby(by=cohort_column)[user_column].count()\n",
    "\n",
    "    # Try to extract sample sizes for each group; fallback to 0 if cohort missing\n",
    "    try:\n",
    "        sample_size_target = sample_size_groupby['VARIATION']\n",
    "    except:\n",
    "        sample_size_target = 0\n",
    "    try:\n",
    "        sample_size_control = sample_size_groupby['CONTROL']\n",
    "    except:\n",
    "        sample_size_control = 0\n",
    "\n",
    "    return [sample_size_target, sample_size_control]\n",
    "\n",
    "# Calculates mean and 95th percentile values for each metric, split by cohort\n",
    "def calculate_raw_values(input_df, metric_list, cohort_column):\n",
    "    summary = []\n",
    "\n",
    "    for metric in metric_list:\n",
    "        control_data = input_df[input_df[cohort_column] == 'CONTROL'][metric].dropna()\n",
    "        variation_data = input_df[input_df[cohort_column] == 'VARIATION'][metric].dropna()\n",
    "\n",
    "        summary.append({\n",
    "            'metric': metric,\n",
    "            'control_mean': control_data.mean(),\n",
    "            'control_95th_percentile': control_data.quantile(0.95),\n",
    "            'variation_mean': variation_data.mean(),\n",
    "            'variation_95th_percentile': variation_data.quantile(0.95)\n",
    "        })\n",
    "\n",
    "    return summary\n",
    "\n",
    "# Runs appropriate statistical tests (U-test or z-test) and returns p-values\n",
    "def generate_p_values(input_df, metric_list):\n",
    "    from statsmodels.stats.proportion import proportions_ztest\n",
    "    import scipy\n",
    "    \n",
    "    sample_size_list = find_sample_sizes(\n",
    "        input_df = input_df,\n",
    "        cohort_column = 'COHORT',\n",
    "        user_column = 'USER_ID'\n",
    "    )\n",
    "    \n",
    "    p_value_array = []\n",
    "\n",
    "    for metric in metric_list:\n",
    "\n",
    "        # Use Mann-Whitney U-test for non-parametric numeric comparison\n",
    "        if metric_type_dict[metric] == 'CONTINUOUS':\n",
    "            stat_sig_test = scipy.stats.mannwhitneyu(\n",
    "                input_df[input_df.COHORT == 'VARIATION'][metric],\n",
    "                input_df[input_df.COHORT == 'CONTROL'][metric]\n",
    "            )\n",
    "\n",
    "        # Use Z-test for proportions for binary/completion events\n",
    "        if metric_type_dict[metric] == 'BINARY':\n",
    "            temp_groupby = input_df.groupby(by='COHORT')[[metric]].agg(\n",
    "                visits=(metric, 'sum'),\n",
    "                size=(metric, 'count')\n",
    "            )\n",
    "            stat_sig_test = proportions_ztest(\n",
    "                [\n",
    "                    temp_groupby.at['VARIATION', 'visits'],\n",
    "                    temp_groupby.at['CONTROL', 'visits']\n",
    "                ],\n",
    "                [\n",
    "                    temp_groupby.at['VARIATION', 'size'],\n",
    "                    temp_groupby.at['CONTROL', 'size']\n",
    "                ]\n",
    "            )\n",
    "\n",
    "        p_value_array.append({\n",
    "            'metric': metric,\n",
    "            'p_value': stat_sig_test[1]  # second value is the p-value\n",
    "        })\n",
    "\n",
    "    return p_value_array\n",
    "\n",
    "# Uses bootstrapping to calculate confidence intervals for percent lift\n",
    "def generate_confidence_intervals(input_df, metric_list, cohort_col='COHORT', groups=('CONTROL', 'VARIATION'),\n",
    "                                  n_bootstraps=1000, conf_level=0.95, seed=None):\n",
    "    if seed is not None:\n",
    "        np.random.seed(seed)\n",
    "\n",
    "    percent_lifts = {metric: [] for metric in metric_list}\n",
    "    cohort_means = {metric: {group: [] for group in groups} for metric in metric_list}\n",
    "\n",
    "    # Bootstrap loop\n",
    "    for _ in range(n_bootstraps):\n",
    "        sample_df = input_df.sample(frac=1, replace=True)\n",
    "\n",
    "        for metric in metric_list:\n",
    "            group_means = {}\n",
    "            for group in groups:\n",
    "                data = sample_df[sample_df[cohort_col] == group][metric].dropna()\n",
    "                group_means[group] = data.mean()\n",
    "                cohort_means[metric][group].append(group_means[group])\n",
    "\n",
    "            # Calculate percent lift (variation vs. control)\n",
    "            control_mean = group_means[groups[0]]\n",
    "            variation_mean = group_means[groups[1]]\n",
    "\n",
    "            if control_mean != 0:\n",
    "                lift = (variation_mean - control_mean) / control_mean\n",
    "                percent_lifts[metric].append(lift)\n",
    "            else:\n",
    "                percent_lifts[metric].append(np.nan)\n",
    "\n",
    "    # Compile results into a DataFrame\n",
    "    rows = []\n",
    "    for metric in metric_list:\n",
    "        lifts = np.array(percent_lifts[metric])\n",
    "        lifts = lifts[~np.isnan(lifts)]\n",
    "\n",
    "        lower = np.percentile(lifts, (1 - conf_level) / 2 * 100)\n",
    "        upper = np.percentile(lifts, (1 + conf_level) / 2 * 100)\n",
    "\n",
    "        rows.append({\n",
    "            'metric': metric,\n",
    "            f'percent_lift_ci_{int(conf_level * 100)}_lower': lower,\n",
    "            f'percent_lift_ci_{int(conf_level * 100)}_upper': upper,\n",
    "            'lifts_array': lifts\n",
    "        })\n",
    "\n",
    "    return rows"
   ]
  },
  {
   "cell_type": "markdown",
   "id": "9795c1c3-b06b-457b-bc1c-72ac20119174",
   "metadata": {},
   "source": [
    "# Overall Results"
   ]
  },
  {
   "cell_type": "markdown",
   "id": "63e69e96-061e-454d-8c9c-1e95a6b706a0",
   "metadata": {},
   "source": [
    "## Raw Values"
   ]
  },
  {
   "cell_type": "code",
   "execution_count": 108,
   "id": "8ddd9e63-fe0b-4a5a-84f6-97a27b0e310b",
   "metadata": {
    "tags": []
   },
   "outputs": [
    {
     "name": "stdout",
     "output_type": "stream",
     "text": [
      "Analyzing Retention Rate (1 day)\n",
      "   -1.3% difference between variation and control means (0.44 vs 0.45)\n",
      "\n",
      "Analyzing Retention Rate (7 Day)\n",
      "   -4.3% difference between variation and control means (0.18 vs 0.19)\n",
      "\n"
     ]
    }
   ],
   "source": [
    "raw_values = calculate_raw_values(\n",
    "    input_df = clean_df,\n",
    "    metric_list = metric_list,\n",
    "    cohort_column = 'COHORT'\n",
    ")\n",
    "\n",
    "for row in raw_values:\n",
    "    print(\"Analyzing %s\" % metric_human_readable[row['metric']])\n",
    "    percent_diff = (row['variation_mean'] - row['control_mean']) / row['control_mean']\n",
    "    print(\"   %.1f%% difference between variation and control means (%.2f vs %.2f)\" % (percent_diff*100, row['variation_mean'], row['control_mean']))\n",
    "    if metric_type_dict[row['metric']] == 'CONTINUOUS':\n",
    "        percent_diff_percentile = (row['variation_95th_percentile'] - row['control_95th_percentile']) / row['control_95th_percentile']\n",
    "        print(\"   %.1f%% difference between variation and control 95th percentiles (%.2f vs %.2f)\" % (percent_diff_percentile*100, row['variation_95th_percentile'], row['control_95th_percentile']))\n",
    "    print(\"\")\n",
    "        "
   ]
  },
  {
   "cell_type": "markdown",
   "id": "fc70b533-d2f7-4ea5-8151-7c7d27fa9edf",
   "metadata": {},
   "source": [
    "## P values"
   ]
  },
  {
   "cell_type": "code",
   "execution_count": 109,
   "id": "c28fefb5-f706-4fc2-b329-21c964cb2bda",
   "metadata": {
    "tags": []
   },
   "outputs": [
    {
     "name": "stdout",
     "output_type": "stream",
     "text": [
      "Analyzing Retention Rate (1 day)\n",
      "   Result: NOT Statistically Significant (P Value: 0.0744)\n",
      "\n",
      "Analyzing Retention Rate (7 Day)\n",
      "   Result: Statistically Significant (P Value: 0.0016)\n",
      "\n"
     ]
    }
   ],
   "source": [
    "p_values = generate_p_values(\n",
    "    input_df = clean_df,\n",
    "    metric_list = metric_list\n",
    ")\n",
    "\n",
    "for row in p_values:\n",
    "    print(\"Analyzing %s\" % metric_human_readable[row['metric']])\n",
    "    if row['p_value'] <= 0.05:\n",
    "        stat_sig_string = 'Statistically Significant'\n",
    "    else:\n",
    "        stat_sig_string = 'NOT Statistically Significant'\n",
    "    print(\"   Result: %s (P Value: %.4f)\" % (stat_sig_string, row['p_value']))\n",
    "    print(\"\")"
   ]
  },
  {
   "cell_type": "markdown",
   "id": "7f214280-3bcd-455b-8d9a-9d85a309caab",
   "metadata": {},
   "source": [
    "## Confidence Intervals"
   ]
  },
  {
   "cell_type": "code",
   "execution_count": 110,
   "id": "71bdddc4-0783-4391-8254-1bf926e96905",
   "metadata": {
    "tags": []
   },
   "outputs": [
    {
     "name": "stdout",
     "output_type": "stream",
     "text": [
      "Analyzing Retention Rate (1 day)\n",
      "   Result: NOT Statistically Significant (-2.76% : 0.07%)\n",
      "\n",
      "Analyzing Retention Rate (7 Day)\n",
      "   Result: Statistically Significant (-6.92% : -1.64%)\n",
      "\n"
     ]
    },
    {
     "data": {
      "image/png": "[encoded data removed]",
      "text/plain": [
       "<Figure size 1500x400 with 2 Axes>"
      ]
     },
     "metadata": {},
     "output_type": "display_data"
    }
   ],
   "source": [
    "confidence_interval_values = generate_confidence_intervals(\n",
    "    input_df = clean_df,\n",
    "    metric_list = metric_list\n",
    ")\n",
    "\n",
    "fig, ax = plt.subplots(1,len(metric_list), figsize=(15,4))\n",
    "\n",
    "for row_num, row in enumerate(confidence_interval_values, start=0):\n",
    "    print(\"Analyzing %s\" % metric_human_readable[row['metric']])\n",
    "    if ((row['percent_lift_ci_95_lower'] > 0) & (row['percent_lift_ci_95_upper'] > 0)) | ((row['percent_lift_ci_95_lower'] < 0) & (row['percent_lift_ci_95_upper'] < 0)):\n",
    "        stat_sig_string = 'Statistically Significant'\n",
    "    else:\n",
    "        stat_sig_string = 'NOT Statistically Significant'\n",
    "    print(\"   Result: %s (%.2f%% : %.2f%%)\" % (stat_sig_string, row['percent_lift_ci_95_lower']*100, row['percent_lift_ci_95_upper']*100))\n",
    "    print(\"\")\n",
    "    \n",
    "    counts, bin_edges = np.histogram(row['lifts_array'], bins=20)\n",
    "    for i in range(len(counts)):\n",
    "        left = bin_edges[i]\n",
    "        right = bin_edges[i + 1]\n",
    "        center = (left + right) / 2\n",
    "        width = right - left\n",
    "        if right < 0:\n",
    "            color = 'red'      # Entire bin is below 0\n",
    "        elif left > 0:\n",
    "            color = 'green'    # Entire bin is above 0\n",
    "        else:\n",
    "            color = 'orange'   # Bin crosses 0\n",
    "        ax[row_num].bar(center, counts[i], width=width, color=color, edgecolor='black', align='center')\n",
    "    ax[row_num].set_title('Percent Diffs: %s' % metric_human_readable[row['metric']])\n",
    "    ax[row_num].set_xlabel('Value')\n",
    "    ax[row_num].set_ylabel('Frequency')\n",
    "\n",
    "plt.tight_layout()\n",
    "plt.show()\n"
   ]
  },
  {
   "cell_type": "markdown",
   "id": "60cc1eb8-d945-4c03-9b03-7b5a0823df5b",
   "metadata": {},
   "source": [
    "## Summary"
   ]
  },
  {
   "cell_type": "code",
   "execution_count": 111,
   "id": "d82f7103-7a4b-4a19-a0ae-f7bbacd91b3e",
   "metadata": {
    "tags": []
   },
   "outputs": [
    {
     "name": "stdout",
     "output_type": "stream",
     "text": [
      "The experiment had a statistically significant impact on 1 of our metric(s): ['Retention Rate (7 Day)']\n",
      "Therefore the expected impact of pushing this change live would be:\n",
      "   Retention Rate (7 Day): (-6.92% : -1.64%)\n",
      "\n",
      "We cannot tell whether the variation would affect the following metric(s): ['Retention Rate (1 day)']\n"
     ]
    }
   ],
   "source": [
    "results_df = pd.DataFrame(raw_values).merge(pd.DataFrame(p_values), on='metric', how='inner')\n",
    "results_df = results_df.merge(pd.DataFrame(confidence_interval_values), on='metric', how='inner')\n",
    "\n",
    "results_df = results_df[['metric', 'control_mean', 'variation_mean', 'p_value', 'percent_lift_ci_95_lower', 'percent_lift_ci_95_upper']]\n",
    "results_df['metric_human_readable']  = results_df.metric.apply(lambda x: metric_human_readable[x])\n",
    "\n",
    "stat_sig_results_df = results_df[results_df.p_value < 0.05]\n",
    "not_stat_sig_results_df = results_df[results_df.p_value >= 0.05]\n",
    "\n",
    "if len(stat_sig_results_df) > 0:\n",
    "    print(\"The experiment had a statistically significant impact on %d of our metric(s): %s\" % (len(stat_sig_results_df), str(stat_sig_results_df['metric_human_readable'].to_list())))\n",
    "    print(\"Therefore the expected impact of pushing this change live would be:\")\n",
    "    for index, row in stat_sig_results_df.iterrows():\n",
    "        print(\"   %s: (%.2f%% : %.2f%%)\" % (row['metric_human_readable'], row['percent_lift_ci_95_lower']*100, row['percent_lift_ci_95_upper']*100))\n",
    "if len(not_stat_sig_results_df) > 0:\n",
    "    print(\"\\nWe cannot tell whether the variation would affect the following metric(s): %s\" % (str(not_stat_sig_results_df['metric_human_readable'].to_list())))\n",
    "    "
   ]
  },
  {
   "cell_type": "markdown",
   "id": "ba57ddac-2b46-450f-b1b7-f7fcf3145b61",
   "metadata": {},
   "source": [
    "# Results by Dimension"
   ]
  },
  {
   "cell_type": "code",
   "execution_count": 119,
   "id": "a6c53b01-00c2-4ee5-b4de-8a89760978da",
   "metadata": {
    "tags": []
   },
   "outputs": [
    {
     "name": "stdout",
     "output_type": "stream",
     "text": [
      "Analyzing NORMAL Players (based on NUM_ROUNDS_CAT)\n",
      "   The experiment had a statistically significant impact on 2 of our metric(s): ['Retention Rate (1 day)', 'Retention Rate (7 Day)']\n",
      "   Therefore the expected impact of pushing this change live would be:\n",
      "      Retention Rate (1 day): (-5.42% : -0.84%) - P Value: 0.01\n",
      "      Retention Rate (7 Day): (-15.89% : -5.38%) - P Value: 0.00\n",
      "\n",
      "Analyzing HIGH Players (based on NUM_ROUNDS_CAT)\n",
      "   The experiment had a statistically significant impact on 2 of our metric(s): ['Retention Rate (1 day)', 'Retention Rate (7 Day)']\n",
      "   Therefore the expected impact of pushing this change live would be:\n",
      "      Retention Rate (1 day): (-2.15% : -0.07%) - P Value: 0.03\n",
      "      Retention Rate (7 Day): (-6.49% : -2.28%) - P Value: 0.00\n",
      "\n",
      "Histograms of % differences can be found below\n"
     ]
    },
    {
     "data": {
      "image/png": "[encoded data removed]",
      "text/plain": [
       "<Figure size 1500x800 with 4 Axes>"
      ]
     },
     "metadata": {},
     "output_type": "display_data"
    }
   ],
   "source": [
    "num_dimensions = len(dimension_list)\n",
    "num_rows_chart = 0\n",
    "for dimension in dimension_list:\n",
    "    num_rows_chart = num_rows_chart + len(clean_df[dimension].unique())\n",
    "\n",
    "fig, ax = plt.subplots(num_rows_chart,len(metric_list), figsize=(15,4*num_rows_chart))\n",
    "\n",
    "chart_row = 0\n",
    "\n",
    "for dimension in dimension_list:\n",
    "    for dimension_value in clean_df[dimension].unique():\n",
    "        print(\"Analyzing %s Players (based on %s)\" % (dimension_value, dimension))\n",
    "        temp_df = clean_df[clean_df[dimension] == dimension_value]\n",
    "        temp_raw_values = calculate_raw_values(\n",
    "            input_df = temp_df,\n",
    "            metric_list = metric_list,\n",
    "            cohort_column = 'COHORT'\n",
    "        )\n",
    "        temp_p_values = generate_p_values(\n",
    "            input_df = temp_df,\n",
    "            metric_list = metric_list\n",
    "        )\n",
    "        \n",
    "        temp_confidence_interval_values = generate_confidence_intervals(\n",
    "            input_df = temp_df,\n",
    "            metric_list = metric_list\n",
    "        )\n",
    "        \n",
    "        temp_results_df = pd.DataFrame(temp_raw_values).merge(pd.DataFrame(temp_p_values), on='metric', how='inner')\n",
    "        temp_results_df = temp_results_df.merge(pd.DataFrame(temp_confidence_interval_values), on='metric', how='inner')\n",
    "        \n",
    "        chart_column = 0\n",
    "        for index, row in temp_results_df.iterrows():\n",
    "            counts, bin_edges = np.histogram(row['lifts_array'], bins=20)\n",
    "            for i in range(len(counts)):\n",
    "                left = bin_edges[i]\n",
    "                right = bin_edges[i + 1]\n",
    "                center = (left + right) / 2\n",
    "                width = right - left\n",
    "                if right < 0:\n",
    "                    color = 'red'      # Entire bin is below 0\n",
    "                elif left > 0:\n",
    "                    color = 'green'    # Entire bin is above 0\n",
    "                else:\n",
    "                    color = 'orange'   # Bin crosses 0\n",
    "                ax[chart_row, chart_column].bar(center, counts[i], width=width, color=color, edgecolor='black', align='center')\n",
    "                ax[chart_row, chart_column].set_title('%s Players - Percent Diffs: %s' % (dimension_value, metric_human_readable[row['metric']]))\n",
    "                ax[chart_row, chart_column].set_xlabel('Value')\n",
    "                ax[chart_row, chart_column].set_ylabel('Frequency')\n",
    "            chart_column = chart_column + 1\n",
    "        chart_row = chart_row + 1\n",
    "        \n",
    "        \n",
    "        temp_results_df = temp_results_df[['metric', 'control_mean', 'variation_mean', 'p_value','percent_lift_ci_95_lower', 'percent_lift_ci_95_upper']]\n",
    "        temp_results_df['metric_human_readable']  = temp_results_df.metric.apply(lambda x: metric_human_readable[x])\n",
    "        temp_stat_sig_results_df = temp_results_df[temp_results_df.p_value < 0.05]\n",
    "        temp_not_stat_sig_results_df = temp_results_df[temp_results_df.p_value >= 0.05]\n",
    "        \n",
    "        if len(temp_stat_sig_results_df) > 0:\n",
    "            print(\"   The experiment had a statistically significant impact on %d of our metric(s): %s\" % (len(temp_stat_sig_results_df), str(temp_stat_sig_results_df['metric_human_readable'].to_list())))\n",
    "            print(\"   Therefore the expected impact of pushing this change live for this subset would be:\")\n",
    "            for index, row in temp_stat_sig_results_df.iterrows():\n",
    "                print(\"      %s: (%.2f%% : %.2f%%) - P Value: %.2f\" % (row['metric_human_readable'], row['percent_lift_ci_95_lower']*100, row['percent_lift_ci_95_upper']*100, row['p_value']))\n",
    "        if len(temp_not_stat_sig_results_df) > 0:\n",
    "            print(\"   We cannot tell whether the variation would affect the following metric(s) for this subset: %s\" % (str(temp_not_stat_sig_results_df['metric_human_readable'].to_list())))\n",
    "        print(\"\")\n",
    "        \n",
    "        \n",
    "print(\"Histograms of % differences can be found below\")\n",
    "plt.tight_layout()\n",
    "plt.show()\n",
    "        "
   ]
  }
 ],
 "metadata": {
  "environment": {
   "kernel": "conda-base-py",
   "name": "workbench-notebooks.m127",
   "type": "gcloud",
   "uri": "us-docker.pkg.dev/deeplearning-platform-release/gcr.io/workbench-notebooks:m127"
  },
  "kernelspec": {
   "display_name": "Python 3 (ipykernel) (Local)",
   "language": "python",
   "name": "conda-base-py"
  },
  "language_info": {
   "codemirror_mode": {
    "name": "ipython",
    "version": 3
   },
   "file_extension": ".py",
   "mimetype": "text/x-python",
   "name": "python",
   "nbconvert_exporter": "python",
   "pygments_lexer": "ipython3",
   "version": "3.10.16"
  }
 },
 "nbformat": 4,
 "nbformat_minor": 5
}
